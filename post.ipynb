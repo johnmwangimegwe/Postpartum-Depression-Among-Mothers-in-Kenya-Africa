{
 "cells": [
  {
   "cell_type": "code",
   "execution_count": null,
   "id": "d5eec733",
   "metadata": {},
   "outputs": [],
   "source": [
    "# import necessary libraries \n",
    "import os\n",
    "from google.cloud import bigquery\n"
   ]
  }
 ],
 "metadata": {
  "kernelspec": {
   "display_name": "base",
   "language": "python",
   "name": "python3"
  },
  "language_info": {
   "name": "python",
   "version": "3.11.5"
  }
 },
 "nbformat": 4,
 "nbformat_minor": 5
}
